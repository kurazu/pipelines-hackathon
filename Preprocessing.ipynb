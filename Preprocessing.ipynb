{
 "cells": [
  {
   "cell_type": "code",
   "execution_count": 18,
   "id": "115f043d",
   "metadata": {},
   "outputs": [],
   "source": [
    "import typing as t\n",
    "import itertools\n",
    "import json\n",
    "\n",
    "import pandas as pd\n",
    "import tensorflow as tf\n",
    "from tqdm.auto import tqdm\n",
    "from scipy.stats import zscore\n",
    "from matplotlib import pyplot as plt"
   ]
  },
  {
   "cell_type": "markdown",
   "id": "e77950d6",
   "metadata": {},
   "source": [
    "Read input file directly from GCS"
   ]
  },
  {
   "cell_type": "code",
   "execution_count": 2,
   "id": "e17be9f9",
   "metadata": {},
   "outputs": [],
   "source": [
    "input_file = 'gs://pipelines-hackathon/input_data/yahoo_stock.csv'"
   ]
  },
  {
   "cell_type": "code",
   "execution_count": 3,
   "id": "9323ff34",
   "metadata": {},
   "outputs": [],
   "source": [
    "df = pd.read_csv(input_file, parse_dates=['Date'], index_col='Date')"
   ]
  },
  {
   "cell_type": "code",
   "execution_count": 4,
   "id": "fc0d09f4",
   "metadata": {},
   "outputs": [
    {
     "data": {
      "text/html": [
       "<div>\n",
       "<style scoped>\n",
       "    .dataframe tbody tr th:only-of-type {\n",
       "        vertical-align: middle;\n",
       "    }\n",
       "\n",
       "    .dataframe tbody tr th {\n",
       "        vertical-align: top;\n",
       "    }\n",
       "\n",
       "    .dataframe thead th {\n",
       "        text-align: right;\n",
       "    }\n",
       "</style>\n",
       "<table border=\"1\" class=\"dataframe\">\n",
       "  <thead>\n",
       "    <tr style=\"text-align: right;\">\n",
       "      <th></th>\n",
       "      <th>High</th>\n",
       "      <th>Low</th>\n",
       "      <th>Open</th>\n",
       "      <th>Close</th>\n",
       "      <th>Volume</th>\n",
       "      <th>Adj Close</th>\n",
       "    </tr>\n",
       "    <tr>\n",
       "      <th>Date</th>\n",
       "      <th></th>\n",
       "      <th></th>\n",
       "      <th></th>\n",
       "      <th></th>\n",
       "      <th></th>\n",
       "      <th></th>\n",
       "    </tr>\n",
       "  </thead>\n",
       "  <tbody>\n",
       "    <tr>\n",
       "      <th>2015-11-23</th>\n",
       "      <td>2095.610107</td>\n",
       "      <td>2081.389893</td>\n",
       "      <td>2089.409912</td>\n",
       "      <td>2086.590088</td>\n",
       "      <td>3.587980e+09</td>\n",
       "      <td>2086.590088</td>\n",
       "    </tr>\n",
       "    <tr>\n",
       "      <th>2015-11-24</th>\n",
       "      <td>2094.120117</td>\n",
       "      <td>2070.290039</td>\n",
       "      <td>2084.419922</td>\n",
       "      <td>2089.139893</td>\n",
       "      <td>3.884930e+09</td>\n",
       "      <td>2089.139893</td>\n",
       "    </tr>\n",
       "    <tr>\n",
       "      <th>2015-11-25</th>\n",
       "      <td>2093.000000</td>\n",
       "      <td>2086.300049</td>\n",
       "      <td>2089.300049</td>\n",
       "      <td>2088.870117</td>\n",
       "      <td>2.852940e+09</td>\n",
       "      <td>2088.870117</td>\n",
       "    </tr>\n",
       "    <tr>\n",
       "      <th>2015-11-26</th>\n",
       "      <td>2093.000000</td>\n",
       "      <td>2086.300049</td>\n",
       "      <td>2089.300049</td>\n",
       "      <td>2088.870117</td>\n",
       "      <td>2.852940e+09</td>\n",
       "      <td>2088.870117</td>\n",
       "    </tr>\n",
       "    <tr>\n",
       "      <th>2015-11-27</th>\n",
       "      <td>2093.290039</td>\n",
       "      <td>2084.129883</td>\n",
       "      <td>2088.820068</td>\n",
       "      <td>2090.110107</td>\n",
       "      <td>1.466840e+09</td>\n",
       "      <td>2090.110107</td>\n",
       "    </tr>\n",
       "    <tr>\n",
       "      <th>...</th>\n",
       "      <td>...</td>\n",
       "      <td>...</td>\n",
       "      <td>...</td>\n",
       "      <td>...</td>\n",
       "      <td>...</td>\n",
       "      <td>...</td>\n",
       "    </tr>\n",
       "    <tr>\n",
       "      <th>2020-11-16</th>\n",
       "      <td>3628.510010</td>\n",
       "      <td>3600.159912</td>\n",
       "      <td>3600.159912</td>\n",
       "      <td>3626.909912</td>\n",
       "      <td>5.281980e+09</td>\n",
       "      <td>3626.909912</td>\n",
       "    </tr>\n",
       "    <tr>\n",
       "      <th>2020-11-17</th>\n",
       "      <td>3623.110107</td>\n",
       "      <td>3588.679932</td>\n",
       "      <td>3610.310059</td>\n",
       "      <td>3609.530029</td>\n",
       "      <td>4.799570e+09</td>\n",
       "      <td>3609.530029</td>\n",
       "    </tr>\n",
       "    <tr>\n",
       "      <th>2020-11-18</th>\n",
       "      <td>3619.090088</td>\n",
       "      <td>3567.330078</td>\n",
       "      <td>3612.090088</td>\n",
       "      <td>3567.790039</td>\n",
       "      <td>5.274450e+09</td>\n",
       "      <td>3567.790039</td>\n",
       "    </tr>\n",
       "    <tr>\n",
       "      <th>2020-11-19</th>\n",
       "      <td>3585.219971</td>\n",
       "      <td>3543.840088</td>\n",
       "      <td>3559.409912</td>\n",
       "      <td>3581.870117</td>\n",
       "      <td>4.347200e+09</td>\n",
       "      <td>3581.870117</td>\n",
       "    </tr>\n",
       "    <tr>\n",
       "      <th>2020-11-20</th>\n",
       "      <td>3581.229980</td>\n",
       "      <td>3556.850098</td>\n",
       "      <td>3579.310059</td>\n",
       "      <td>3557.540039</td>\n",
       "      <td>2.236662e+09</td>\n",
       "      <td>3557.540039</td>\n",
       "    </tr>\n",
       "  </tbody>\n",
       "</table>\n",
       "<p>1825 rows × 6 columns</p>\n",
       "</div>"
      ],
      "text/plain": [
       "                   High          Low         Open        Close        Volume  \\\n",
       "Date                                                                           \n",
       "2015-11-23  2095.610107  2081.389893  2089.409912  2086.590088  3.587980e+09   \n",
       "2015-11-24  2094.120117  2070.290039  2084.419922  2089.139893  3.884930e+09   \n",
       "2015-11-25  2093.000000  2086.300049  2089.300049  2088.870117  2.852940e+09   \n",
       "2015-11-26  2093.000000  2086.300049  2089.300049  2088.870117  2.852940e+09   \n",
       "2015-11-27  2093.290039  2084.129883  2088.820068  2090.110107  1.466840e+09   \n",
       "...                 ...          ...          ...          ...           ...   \n",
       "2020-11-16  3628.510010  3600.159912  3600.159912  3626.909912  5.281980e+09   \n",
       "2020-11-17  3623.110107  3588.679932  3610.310059  3609.530029  4.799570e+09   \n",
       "2020-11-18  3619.090088  3567.330078  3612.090088  3567.790039  5.274450e+09   \n",
       "2020-11-19  3585.219971  3543.840088  3559.409912  3581.870117  4.347200e+09   \n",
       "2020-11-20  3581.229980  3556.850098  3579.310059  3557.540039  2.236662e+09   \n",
       "\n",
       "              Adj Close  \n",
       "Date                     \n",
       "2015-11-23  2086.590088  \n",
       "2015-11-24  2089.139893  \n",
       "2015-11-25  2088.870117  \n",
       "2015-11-26  2088.870117  \n",
       "2015-11-27  2090.110107  \n",
       "...                 ...  \n",
       "2020-11-16  3626.909912  \n",
       "2020-11-17  3609.530029  \n",
       "2020-11-18  3567.790039  \n",
       "2020-11-19  3581.870117  \n",
       "2020-11-20  3557.540039  \n",
       "\n",
       "[1825 rows x 6 columns]"
      ]
     },
     "execution_count": 4,
     "metadata": {},
     "output_type": "execute_result"
    }
   ],
   "source": [
    "df"
   ]
  },
  {
   "cell_type": "markdown",
   "id": "3812c1fc",
   "metadata": {},
   "source": [
    "# Plot the data\n",
    "Show training-validation-test split with background color"
   ]
  },
  {
   "cell_type": "code",
   "execution_count": 5,
   "id": "39fabb21",
   "metadata": {},
   "outputs": [
    {
     "data": {
      "text/plain": [
       "<matplotlib.patches.Polygon at 0x7f92f23b1fd0>"
      ]
     },
     "execution_count": 5,
     "metadata": {},
     "output_type": "execute_result"
    },
    {
     "data": {
      "image/png": "[encoded data removed]",
      "text/plain": [
       "<Figure size 432x288 with 1 Axes>"
      ]
     },
     "metadata": {
      "needs_background": "light"
     },
     "output_type": "display_data"
    }
   ],
   "source": [
    "plt.plot(df.index, df.Close)\n",
    "plt.axhspan(df.Close.min(), df.Close.max(), 0, 0.8, facecolor='blue', alpha=0.1)\n",
    "plt.axhspan(df.Close.min(), df.Close.max(), 0.8, 0.9, facecolor='green', alpha=0.1)\n",
    "plt.axhspan(df.Close.min(), df.Close.max(), 0.9, 1.0, facecolor='red', alpha=0.1)"
   ]
  },
  {
   "cell_type": "markdown",
   "id": "48bee919",
   "metadata": {},
   "source": [
    "# Normalize the numerical values"
   ]
  },
  {
   "cell_type": "code",
   "execution_count": 6,
   "id": "e5c4f84b",
   "metadata": {},
   "outputs": [],
   "source": [
    "normalized_df = df.apply(zscore)"
   ]
  },
  {
   "cell_type": "code",
   "execution_count": 7,
   "id": "b6c864be",
   "metadata": {},
   "outputs": [
    {
     "data": {
      "text/html": [
       "<div>\n",
       "<style scoped>\n",
       "    .dataframe tbody tr th:only-of-type {\n",
       "        vertical-align: middle;\n",
       "    }\n",
       "\n",
       "    .dataframe tbody tr th {\n",
       "        vertical-align: top;\n",
       "    }\n",
       "\n",
       "    .dataframe thead th {\n",
       "        text-align: right;\n",
       "    }\n",
       "</style>\n",
       "<table border=\"1\" class=\"dataframe\">\n",
       "  <thead>\n",
       "    <tr style=\"text-align: right;\">\n",
       "      <th></th>\n",
       "      <th>High</th>\n",
       "      <th>Low</th>\n",
       "      <th>Open</th>\n",
       "      <th>Close</th>\n",
       "      <th>Volume</th>\n",
       "      <th>Adj Close</th>\n",
       "    </tr>\n",
       "    <tr>\n",
       "      <th>Date</th>\n",
       "      <th></th>\n",
       "      <th></th>\n",
       "      <th></th>\n",
       "      <th></th>\n",
       "      <th></th>\n",
       "      <th></th>\n",
       "    </tr>\n",
       "  </thead>\n",
       "  <tbody>\n",
       "    <tr>\n",
       "      <th>2015-11-23</th>\n",
       "      <td>-1.379765</td>\n",
       "      <td>-1.364247</td>\n",
       "      <td>-1.371535</td>\n",
       "      <td>-1.378390</td>\n",
       "      <td>-0.259034</td>\n",
       "      <td>-1.378390</td>\n",
       "    </tr>\n",
       "    <tr>\n",
       "      <th>2015-11-24</th>\n",
       "      <td>-1.383403</td>\n",
       "      <td>-1.391708</td>\n",
       "      <td>-1.383794</td>\n",
       "      <td>-1.372128</td>\n",
       "      <td>0.014075</td>\n",
       "      <td>-1.372128</td>\n",
       "    </tr>\n",
       "    <tr>\n",
       "      <th>2015-11-25</th>\n",
       "      <td>-1.386138</td>\n",
       "      <td>-1.352099</td>\n",
       "      <td>-1.371805</td>\n",
       "      <td>-1.372791</td>\n",
       "      <td>-0.935061</td>\n",
       "      <td>-1.372791</td>\n",
       "    </tr>\n",
       "    <tr>\n",
       "      <th>2015-11-26</th>\n",
       "      <td>-1.386138</td>\n",
       "      <td>-1.352099</td>\n",
       "      <td>-1.371805</td>\n",
       "      <td>-1.372791</td>\n",
       "      <td>-0.935061</td>\n",
       "      <td>-1.372791</td>\n",
       "    </tr>\n",
       "    <tr>\n",
       "      <th>2015-11-27</th>\n",
       "      <td>-1.385430</td>\n",
       "      <td>-1.357468</td>\n",
       "      <td>-1.372984</td>\n",
       "      <td>-1.369746</td>\n",
       "      <td>-2.209876</td>\n",
       "      <td>-1.369746</td>\n",
       "    </tr>\n",
       "    <tr>\n",
       "      <th>...</th>\n",
       "      <td>...</td>\n",
       "      <td>...</td>\n",
       "      <td>...</td>\n",
       "      <td>...</td>\n",
       "      <td>...</td>\n",
       "      <td>...</td>\n",
       "    </tr>\n",
       "    <tr>\n",
       "      <th>2020-11-16</th>\n",
       "      <td>2.362953</td>\n",
       "      <td>2.393231</td>\n",
       "      <td>2.339849</td>\n",
       "      <td>2.404417</td>\n",
       "      <td>1.298961</td>\n",
       "      <td>2.404417</td>\n",
       "    </tr>\n",
       "    <tr>\n",
       "      <th>2020-11-17</th>\n",
       "      <td>2.349769</td>\n",
       "      <td>2.364829</td>\n",
       "      <td>2.364784</td>\n",
       "      <td>2.361735</td>\n",
       "      <td>0.855282</td>\n",
       "      <td>2.361735</td>\n",
       "    </tr>\n",
       "    <tr>\n",
       "      <th>2020-11-18</th>\n",
       "      <td>2.339953</td>\n",
       "      <td>2.312009</td>\n",
       "      <td>2.369157</td>\n",
       "      <td>2.259227</td>\n",
       "      <td>1.292035</td>\n",
       "      <td>2.259227</td>\n",
       "    </tr>\n",
       "    <tr>\n",
       "      <th>2020-11-19</th>\n",
       "      <td>2.257256</td>\n",
       "      <td>2.253894</td>\n",
       "      <td>2.239740</td>\n",
       "      <td>2.293806</td>\n",
       "      <td>0.439231</td>\n",
       "      <td>2.293806</td>\n",
       "    </tr>\n",
       "    <tr>\n",
       "      <th>2020-11-20</th>\n",
       "      <td>2.247514</td>\n",
       "      <td>2.286082</td>\n",
       "      <td>2.288628</td>\n",
       "      <td>2.234055</td>\n",
       "      <td>-1.501860</td>\n",
       "      <td>2.234055</td>\n",
       "    </tr>\n",
       "  </tbody>\n",
       "</table>\n",
       "<p>1825 rows × 6 columns</p>\n",
       "</div>"
      ],
      "text/plain": [
       "                High       Low      Open     Close    Volume  Adj Close\n",
       "Date                                                                   \n",
       "2015-11-23 -1.379765 -1.364247 -1.371535 -1.378390 -0.259034  -1.378390\n",
       "2015-11-24 -1.383403 -1.391708 -1.383794 -1.372128  0.014075  -1.372128\n",
       "2015-11-25 -1.386138 -1.352099 -1.371805 -1.372791 -0.935061  -1.372791\n",
       "2015-11-26 -1.386138 -1.352099 -1.371805 -1.372791 -0.935061  -1.372791\n",
       "2015-11-27 -1.385430 -1.357468 -1.372984 -1.369746 -2.209876  -1.369746\n",
       "...              ...       ...       ...       ...       ...        ...\n",
       "2020-11-16  2.362953  2.393231  2.339849  2.404417  1.298961   2.404417\n",
       "2020-11-17  2.349769  2.364829  2.364784  2.361735  0.855282   2.361735\n",
       "2020-11-18  2.339953  2.312009  2.369157  2.259227  1.292035   2.259227\n",
       "2020-11-19  2.257256  2.253894  2.239740  2.293806  0.439231   2.293806\n",
       "2020-11-20  2.247514  2.286082  2.288628  2.234055 -1.501860   2.234055\n",
       "\n",
       "[1825 rows x 6 columns]"
      ]
     },
     "execution_count": 7,
     "metadata": {},
     "output_type": "execute_result"
    }
   ],
   "source": [
    "normalized_df"
   ]
  },
  {
   "cell_type": "markdown",
   "id": "7292b46d",
   "metadata": {},
   "source": [
    "# Assign train-validation-test split"
   ]
  },
  {
   "cell_type": "code",
   "execution_count": 8,
   "id": "364ffbe9",
   "metadata": {},
   "outputs": [],
   "source": [
    "normalized_df['subset'] = pd.qcut(normalized_df.index, q=[.0, .8, .9, 1.], labels=['train', 'val', 'test'])"
   ]
  },
  {
   "cell_type": "markdown",
   "id": "62003c5f",
   "metadata": {},
   "source": [
    "# Dump data as tfrecord files"
   ]
  },
  {
   "cell_type": "code",
   "execution_count": 9,
   "id": "3349f66b",
   "metadata": {},
   "outputs": [],
   "source": [
    "def get_historical_samples(subset: str, history_size: int = 5) -> t.Iterable[t.Tuple[pd.DataFrame, pd.Series]]:\n",
    "    return filter(\n",
    "        # only take given subset of samples\n",
    "        lambda past_current: past_current[1].subset == subset,\n",
    "        map(\n",
    "            # split into historical data and cucrrent row\n",
    "            lambda df: (df.iloc[:-1], df.iloc[-1]),\n",
    "            # rolling window of constant size\n",
    "            filter(\n",
    "                lambda df: len(df) >= history_size + 1,\n",
    "                normalized_df.rolling(window=history_size + 1)\n",
    "            )\n",
    "        )\n",
    "    )"
   ]
  },
  {
   "cell_type": "code",
   "execution_count": 10,
   "id": "4c345350",
   "metadata": {},
   "outputs": [],
   "source": [
    "def _float_feature(value: float) -> tf.train.Feature:\n",
    "    \"\"\"Returns a float_list from a float / double.\"\"\"\n",
    "    return tf.train.Feature(float_list=tf.train.FloatList(value=[value]))"
   ]
  },
  {
   "cell_type": "code",
   "execution_count": 11,
   "id": "1514373e",
   "metadata": {},
   "outputs": [],
   "source": [
    "def _float_list_feature(values: t.Iterable[float]) -> tf.train.Feature:\n",
    "    return tf.train.Feature(float_list=tf.train.FloatList(value=list(values)))"
   ]
  },
  {
   "cell_type": "code",
   "execution_count": 12,
   "id": "0f6e066e",
   "metadata": {},
   "outputs": [],
   "source": [
    "def _int64_feature(value: int) -> tf.train.Feature:\n",
    "    \"\"\"Returns an int64_list from a bool / enum / int / uint.\"\"\"\n",
    "    return tf.train.Feature(int64_list=tf.train.Int64List(value=[value]))"
   ]
  },
  {
   "cell_type": "code",
   "execution_count": 13,
   "id": "28db822c",
   "metadata": {},
   "outputs": [],
   "source": [
    "def _string_encode(value: str) -> bytes:\n",
    "    assert value\n",
    "    return value.encode(\"utf-8\")\n",
    "\n",
    "def _string_feature(value: str) -> tf.train.Feature:\n",
    "    \"\"\"Returns a bytes_list from a string / byte.\"\"\"\n",
    "    return tf.train.Feature(\n",
    "        bytes_list=tf.train.BytesList(value=[_string_encode(value)])\n",
    "    )"
   ]
  },
  {
   "cell_type": "code",
   "execution_count": 14,
   "id": "0c9f809e",
   "metadata": {},
   "outputs": [],
   "source": [
    "def serialize_example(past_rows: pd.DataFrame, current_row: t.Dict[str, t.Any]) -> bytes:\n",
    "    features = {\n",
    "        'past_high': _float_list_feature(past_rows['High']),\n",
    "        'past_low': _float_list_feature(past_rows['Low']),\n",
    "        'past_open': _float_list_feature(past_rows['Open']),\n",
    "        'past_close': _float_list_feature(past_rows['Close']),\n",
    "        'past_volume': _float_list_feature(past_rows['Volume']),\n",
    "        'past_adj_close': _float_list_feature(past_rows['Adj Close']),\n",
    "        'open': _float_feature(current_row['Open']),\n",
    "        'close': _float_feature(current_row['Close']),\n",
    "    }\n",
    "\n",
    "    # Create a Features message using tf.train.Example.\n",
    "    example_proto = tf.train.Example(features=tf.train.Features(feature=features))\n",
    "    message: bytes = example_proto.SerializeToString()\n",
    "    return message"
   ]
  },
  {
   "cell_type": "markdown",
   "id": "781234b7",
   "metadata": {},
   "source": [
    "Store output directly to GCS"
   ]
  },
  {
   "cell_type": "code",
   "execution_count": 15,
   "id": "551c3591",
   "metadata": {},
   "outputs": [
    {
     "data": {
      "application/vnd.jupyter.widget-view+json": {
       "model_id": "70d491652c674352ab9e73ff0969afb4",
       "version_major": 2,
       "version_minor": 0
      },
      "text/plain": [
       "  0%|          | 0/3 [00:00<?, ?it/s]"
      ]
     },
     "metadata": {},
     "output_type": "display_data"
    }
   ],
   "source": [
    "for subset in tqdm(['train', 'val', 'test']):\n",
    "    with tf.io.TFRecordWriter(f'gs://pipelines-hackathon/preprocessed_data/yahoo_stock.{subset}.tfrecord') as writer:\n",
    "        for past_rows, current_row in get_historical_samples(subset, history_size=30):\n",
    "            example = serialize_example(past_rows, current_row)\n",
    "            writer.write(example)"
   ]
  },
  {
   "cell_type": "code",
   "execution_count": 23,
   "id": "6ce23a87",
   "metadata": {},
   "outputs": [],
   "source": [
    "def serialize_example_json(past_rows: pd.DataFrame, current_row: t.Dict[str, t.Any]) -> str:\n",
    "    example = {\n",
    "        'past_high': list(past_rows['High']),\n",
    "        'past_low': list(past_rows['Low']),\n",
    "        'past_open': list(past_rows['Open']),\n",
    "        'past_close': list(past_rows['Close']),\n",
    "        'past_volume': list(past_rows['Volume']),\n",
    "        'past_adj_close': list(past_rows['Adj Close']),\n",
    "        'open': [current_row['Open']],\n",
    "    }\n",
    "    return json.dumps(example)"
   ]
  },
  {
   "cell_type": "code",
   "execution_count": 24,
   "id": "c904e793",
   "metadata": {},
   "outputs": [
    {
     "data": {
      "application/vnd.jupyter.widget-view+json": {
       "model_id": "aa16238589d54a85a0a74a080cf01b86",
       "version_major": 2,
       "version_minor": 0
      },
      "text/plain": [
       "  0%|          | 0/3 [00:00<?, ?it/s]"
      ]
     },
     "metadata": {},
     "output_type": "display_data"
    }
   ],
   "source": [
    "for subset in tqdm(['train', 'val', 'test']):\n",
    "    with tf.io.gfile.GFile(f'gs://pipelines-hackathon/preprocessed_data/yahoo_stock.{subset}.jsonl', 'w') as writer:\n",
    "        for past_rows, current_row in get_historical_samples(subset, history_size=30):\n",
    "            example = serialize_example_json(past_rows, current_row)\n",
    "            writer.write(example)\n",
    "            writer.write('\\n')"
   ]
  },
  {
   "cell_type": "code",
   "execution_count": null,
   "id": "4ec00fd4",
   "metadata": {},
   "outputs": [],
   "source": []
  }
 ],
 "metadata": {
  "kernelspec": {
   "display_name": "Python 3 (ipykernel)",
   "language": "python",
   "name": "python3"
  },
  "language_info": {
   "codemirror_mode": {
    "name": "ipython",
    "version": 3
   },
   "file_extension": ".py",
   "mimetype": "text/x-python",
   "name": "python",
   "nbconvert_exporter": "python",
   "pygments_lexer": "ipython3",
   "version": "3.8.10"
  }
 },
 "nbformat": 4,
 "nbformat_minor": 5
}
